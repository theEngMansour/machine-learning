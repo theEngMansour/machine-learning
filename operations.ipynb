{
 "cells": [
  {
   "cell_type": "code",
   "id": "initial_id",
   "metadata": {
    "collapsed": true,
    "ExecuteTime": {
     "end_time": "2025-02-28T19:29:25.730749Z",
     "start_time": "2025-02-28T19:29:25.506212Z"
    }
   },
   "source": "import  numpy as np",
   "outputs": [],
   "execution_count": 1
  },
  {
   "metadata": {
    "ExecuteTime": {
     "end_time": "2025-02-28T19:29:29.729754Z",
     "start_time": "2025-02-28T19:29:29.716159Z"
    }
   },
   "cell_type": "code",
   "source": "arr = np.array([1, 2, 3, 4, 5])",
   "id": "a0a387356d17908f",
   "outputs": [],
   "execution_count": 2
  },
  {
   "metadata": {
    "ExecuteTime": {
     "end_time": "2025-02-28T19:30:31.368467Z",
     "start_time": "2025-02-28T19:30:31.356027Z"
    }
   },
   "cell_type": "code",
   "source": [
    "get = np.where(arr%2 ==0)\n",
    "print(get)"
   ],
   "id": "c81d4c25d710b444",
   "outputs": [
    {
     "name": "stdout",
     "output_type": "stream",
     "text": [
      "(array([1, 3], dtype=int64),)\n"
     ]
    }
   ],
   "execution_count": 6
  },
  {
   "metadata": {
    "ExecuteTime": {
     "end_time": "2025-02-28T19:31:13.597197Z",
     "start_time": "2025-02-28T19:31:13.586186Z"
    }
   },
   "cell_type": "code",
   "source": [
    "for x in get:\n",
    "    print(arr[x])"
   ],
   "id": "53a84f749f883324",
   "outputs": [
    {
     "name": "stdout",
     "output_type": "stream",
     "text": [
      "[2 4]\n"
     ]
    }
   ],
   "execution_count": 8
  },
  {
   "metadata": {
    "ExecuteTime": {
     "end_time": "2025-02-28T19:31:22.576813Z",
     "start_time": "2025-02-28T19:31:22.556685Z"
    }
   },
   "cell_type": "code",
   "source": [
    "arr = np.array([1, 2, 3, 4, 5, 6, 7, 8])\n",
    "\n",
    "x = np.where(arr % 2 == 0)\n",
    "print(x)"
   ],
   "id": "e68195c745f8d640",
   "outputs": [
    {
     "name": "stdout",
     "output_type": "stream",
     "text": [
      "(array([1, 3, 5, 7], dtype=int64),)\n"
     ]
    }
   ],
   "execution_count": 9
  },
  {
   "metadata": {
    "ExecuteTime": {
     "end_time": "2025-02-28T19:31:34.784582Z",
     "start_time": "2025-02-28T19:31:34.766362Z"
    }
   },
   "cell_type": "code",
   "source": "arr = np.array([3, 2, 0, 1])\n",
   "id": "9a67a85844d0c073",
   "outputs": [],
   "execution_count": 10
  },
  {
   "metadata": {
    "ExecuteTime": {
     "end_time": "2025-02-28T19:32:19.846529Z",
     "start_time": "2025-02-28T19:32:19.831039Z"
    }
   },
   "cell_type": "code",
   "source": "print(np.sort(arr))",
   "id": "448f88d3976ef152",
   "outputs": [
    {
     "name": "stdout",
     "output_type": "stream",
     "text": [
      "[0 1 2 3]\n"
     ]
    }
   ],
   "execution_count": 13
  },
  {
   "metadata": {
    "ExecuteTime": {
     "end_time": "2025-02-28T19:33:01.719Z",
     "start_time": "2025-02-28T19:33:01.706399Z"
    }
   },
   "cell_type": "code",
   "source": [
    "descending = arr[::-1]\n",
    "print(descending)"
   ],
   "id": "4363949748742704",
   "outputs": [
    {
     "name": "stdout",
     "output_type": "stream",
     "text": [
      "[3 2 1 0]\n"
     ]
    }
   ],
   "execution_count": 16
  },
  {
   "metadata": {
    "ExecuteTime": {
     "end_time": "2025-02-28T19:33:17.471754Z",
     "start_time": "2025-02-28T19:33:17.461164Z"
    }
   },
   "cell_type": "code",
   "source": [
    "arr = np.array(['banana', 'cherry', 'apple'])\n",
    "\n",
    "print(np.sort(arr))"
   ],
   "id": "866f6332b08f4cb",
   "outputs": [
    {
     "name": "stdout",
     "output_type": "stream",
     "text": [
      "['apple' 'banana' 'cherry']\n"
     ]
    }
   ],
   "execution_count": 17
  },
  {
   "metadata": {
    "ExecuteTime": {
     "end_time": "2025-02-28T19:33:38.706654Z",
     "start_time": "2025-02-28T19:33:38.691479Z"
    }
   },
   "cell_type": "code",
   "source": "arr = np.array([41, 42, 43, 44])\n",
   "id": "7d8483a6ceeb0369",
   "outputs": [],
   "execution_count": 18
  },
  {
   "metadata": {
    "ExecuteTime": {
     "end_time": "2025-02-28T19:34:09.227155Z",
     "start_time": "2025-02-28T19:34:09.216574Z"
    }
   },
   "cell_type": "code",
   "source": "filtered = [False, True, False, False]",
   "id": "3c6642cb5df1c3b1",
   "outputs": [],
   "execution_count": 19
  },
  {
   "metadata": {
    "ExecuteTime": {
     "end_time": "2025-02-28T19:34:22.874125Z",
     "start_time": "2025-02-28T19:34:22.846196Z"
    }
   },
   "cell_type": "code",
   "source": "arr[filtered]",
   "id": "d4323acb9e99b478",
   "outputs": [
    {
     "data": {
      "text/plain": [
       "array([42])"
      ]
     },
     "execution_count": 20,
     "metadata": {},
     "output_type": "execute_result"
    }
   ],
   "execution_count": 20
  },
  {
   "metadata": {
    "ExecuteTime": {
     "end_time": "2025-02-28T19:34:43.123334Z",
     "start_time": "2025-02-28T19:34:43.106184Z"
    }
   },
   "cell_type": "code",
   "source": [
    "arr = np.array([41, 42, 43, 44])\n",
    "\n",
    "filter_arr = []"
   ],
   "id": "84e15bd401d167bb",
   "outputs": [],
   "execution_count": 21
  },
  {
   "metadata": {
    "ExecuteTime": {
     "end_time": "2025-02-28T19:35:59.538181Z",
     "start_time": "2025-02-28T19:35:59.516631Z"
    }
   },
   "cell_type": "code",
   "source": [
    "for element in arr:\n",
    "    if(element == 42):\n",
    "        filter_arr.append(True)\n",
    "    else:\n",
    "        filter_arr.append(False)"
   ],
   "id": "569b85e6c137433a",
   "outputs": [],
   "execution_count": 22
  },
  {
   "metadata": {
    "ExecuteTime": {
     "end_time": "2025-02-28T19:36:06.005263Z",
     "start_time": "2025-02-28T19:36:05.986504Z"
    }
   },
   "cell_type": "code",
   "source": "na = arr[filter_arr]",
   "id": "1b4d87f33fdff7e4",
   "outputs": [],
   "execution_count": 23
  },
  {
   "metadata": {
    "ExecuteTime": {
     "end_time": "2025-02-28T19:36:10.234156Z",
     "start_time": "2025-02-28T19:36:10.218757Z"
    }
   },
   "cell_type": "code",
   "source": "print(na)",
   "id": "5b5d0fbc12e261f8",
   "outputs": [
    {
     "name": "stdout",
     "output_type": "stream",
     "text": [
      "[42]\n"
     ]
    }
   ],
   "execution_count": 24
  },
  {
   "metadata": {
    "ExecuteTime": {
     "end_time": "2025-02-28T19:36:25.106981Z",
     "start_time": "2025-02-28T19:36:25.086318Z"
    }
   },
   "cell_type": "code",
   "source": [
    "arr = np.array([1, 2, 3, 4, 5, 6, 7])\n",
    "\n",
    "filter_arr = arr % 2 == 0\n",
    "newarr = arr[filter_arr]\n",
    "\n",
    "print(filter_arr)\n",
    "print(newarr)"
   ],
   "id": "d45a28cc4dcbc5e3",
   "outputs": [
    {
     "name": "stdout",
     "output_type": "stream",
     "text": [
      "[False  True False  True False  True False]\n",
      "[2 4 6]\n"
     ]
    }
   ],
   "execution_count": 25
  },
  {
   "metadata": {
    "ExecuteTime": {
     "end_time": "2025-02-28T19:37:06.768659Z",
     "start_time": "2025-02-28T19:37:06.756358Z"
    }
   },
   "cell_type": "code",
   "source": "arr = np.array([1, 2, 3, 4, 5, 6, 7, 8, 9, 10, 11, 12])\n",
   "id": "d3413a39f1001d4e",
   "outputs": [],
   "execution_count": 26
  },
  {
   "metadata": {
    "ExecuteTime": {
     "end_time": "2025-02-28T19:38:00.270620Z",
     "start_time": "2025-02-28T19:38:00.256137Z"
    }
   },
   "cell_type": "code",
   "source": "arr.reshape(4,3)",
   "id": "896f957ee54cef55",
   "outputs": [
    {
     "data": {
      "text/plain": [
       "array([[ 1,  2,  3],\n",
       "       [ 4,  5,  6],\n",
       "       [ 7,  8,  9],\n",
       "       [10, 11, 12]])"
      ]
     },
     "execution_count": 30,
     "metadata": {},
     "output_type": "execute_result"
    }
   ],
   "execution_count": 30
  },
  {
   "metadata": {
    "ExecuteTime": {
     "end_time": "2025-02-28T19:38:10.742334Z",
     "start_time": "2025-02-28T19:38:10.731418Z"
    }
   },
   "cell_type": "code",
   "source": [
    "arr = np.array([[1, 2, 3], [4, 5, 6]])\n",
    "\n",
    "newarr = arr.reshape(-1)\n",
    "\n",
    "print(newarr)"
   ],
   "id": "8c22842bde264fd3",
   "outputs": [
    {
     "name": "stdout",
     "output_type": "stream",
     "text": [
      "[1 2 3 4 5 6]\n"
     ]
    }
   ],
   "execution_count": 31
  },
  {
   "metadata": {},
   "cell_type": "code",
   "outputs": [],
   "execution_count": null,
   "source": "",
   "id": "55eb770729851249"
  }
 ],
 "metadata": {
  "kernelspec": {
   "display_name": "Python 3",
   "language": "python",
   "name": "python3"
  },
  "language_info": {
   "codemirror_mode": {
    "name": "ipython",
    "version": 2
   },
   "file_extension": ".py",
   "mimetype": "text/x-python",
   "name": "python",
   "nbconvert_exporter": "python",
   "pygments_lexer": "ipython2",
   "version": "2.7.6"
  }
 },
 "nbformat": 4,
 "nbformat_minor": 5
}
