{
 "cells": [
  {
   "cell_type": "code",
   "id": "initial_id",
   "metadata": {
    "collapsed": true,
    "ExecuteTime": {
     "end_time": "2025-02-28T19:05:25.299621Z",
     "start_time": "2025-02-28T19:05:25.064793Z"
    }
   },
   "source": "import numpy as np",
   "outputs": [],
   "execution_count": 3
  },
  {
   "metadata": {
    "ExecuteTime": {
     "end_time": "2025-02-28T19:11:38.942192Z",
     "start_time": "2025-02-28T19:11:38.925458Z"
    }
   },
   "cell_type": "code",
   "source": "arr = np.array([[1, 2, 3], [4, 5, 2]])",
   "id": "ec40e22c30c23d16",
   "outputs": [],
   "execution_count": 11
  },
  {
   "metadata": {
    "ExecuteTime": {
     "end_time": "2025-02-28T19:11:41.859048Z",
     "start_time": "2025-02-28T19:11:41.835319Z"
    }
   },
   "cell_type": "code",
   "source": "arr.shape",
   "id": "a8bdd20f2e4128ec",
   "outputs": [
    {
     "data": {
      "text/plain": [
       "(2, 3)"
      ]
     },
     "execution_count": 12,
     "metadata": {},
     "output_type": "execute_result"
    }
   ],
   "execution_count": 12
  },
  {
   "metadata": {
    "ExecuteTime": {
     "end_time": "2025-02-28T19:11:46.958008Z",
     "start_time": "2025-02-28T19:11:46.945321Z"
    }
   },
   "cell_type": "code",
   "source": "arr.ndim",
   "id": "5c6adf263cc5fb76",
   "outputs": [
    {
     "data": {
      "text/plain": [
       "2"
      ]
     },
     "execution_count": 13,
     "metadata": {},
     "output_type": "execute_result"
    }
   ],
   "execution_count": 13
  },
  {
   "metadata": {
    "ExecuteTime": {
     "end_time": "2025-02-28T19:11:49.020636Z",
     "start_time": "2025-02-28T19:11:49.005461Z"
    }
   },
   "cell_type": "code",
   "source": "arr.size",
   "id": "f0eff6812b1902d7",
   "outputs": [
    {
     "data": {
      "text/plain": [
       "6"
      ]
     },
     "execution_count": 14,
     "metadata": {},
     "output_type": "execute_result"
    }
   ],
   "execution_count": 14
  },
  {
   "metadata": {
    "ExecuteTime": {
     "end_time": "2025-02-28T19:12:07.795362Z",
     "start_time": "2025-02-28T19:12:07.785275Z"
    }
   },
   "cell_type": "code",
   "source": "a = np.array([1, 2, 3, 4])",
   "id": "4e4308a81c871071",
   "outputs": [],
   "execution_count": 15
  },
  {
   "metadata": {
    "ExecuteTime": {
     "end_time": "2025-02-28T19:12:31.058960Z",
     "start_time": "2025-02-28T19:12:31.046676Z"
    }
   },
   "cell_type": "code",
   "source": "a + 1",
   "id": "948e1c68430ec63a",
   "outputs": [
    {
     "data": {
      "text/plain": [
       "array([2, 3, 4, 5])"
      ]
     },
     "execution_count": 16,
     "metadata": {},
     "output_type": "execute_result"
    }
   ],
   "execution_count": 16
  },
  {
   "metadata": {
    "ExecuteTime": {
     "end_time": "2025-02-28T19:13:40.507078Z",
     "start_time": "2025-02-28T19:13:40.485776Z"
    }
   },
   "cell_type": "code",
   "source": "2 * a",
   "id": "7f251539e51b37a9",
   "outputs": [
    {
     "data": {
      "text/plain": [
       "array([2, 4, 6, 8])"
      ]
     },
     "execution_count": 28,
     "metadata": {},
     "output_type": "execute_result"
    }
   ],
   "execution_count": 28
  },
  {
   "metadata": {
    "ExecuteTime": {
     "end_time": "2025-02-28T19:13:52.008764Z",
     "start_time": "2025-02-28T19:13:51.985602Z"
    }
   },
   "cell_type": "code",
   "source": "a**3",
   "id": "d3b69fbe453284ff",
   "outputs": [
    {
     "data": {
      "text/plain": [
       "array([ 1,  8, 27, 64], dtype=int32)"
      ]
     },
     "execution_count": 29,
     "metadata": {},
     "output_type": "execute_result"
    }
   ],
   "execution_count": 29
  },
  {
   "metadata": {
    "ExecuteTime": {
     "end_time": "2025-02-28T19:14:06.373005Z",
     "start_time": "2025-02-28T19:14:06.355341Z"
    }
   },
   "cell_type": "code",
   "source": "np.power(a, 3)",
   "id": "6799db4ef2bd74fb",
   "outputs": [
    {
     "data": {
      "text/plain": [
       "array([ 1,  8, 27, 64], dtype=int32)"
      ]
     },
     "execution_count": 30,
     "metadata": {},
     "output_type": "execute_result"
    }
   ],
   "execution_count": 30
  },
  {
   "metadata": {
    "ExecuteTime": {
     "end_time": "2025-02-28T19:14:38.695540Z",
     "start_time": "2025-02-28T19:14:38.685293Z"
    }
   },
   "cell_type": "code",
   "source": "np.sum(a)",
   "id": "bf64be896e18ce17",
   "outputs": [
    {
     "data": {
      "text/plain": [
       "10"
      ]
     },
     "execution_count": 31,
     "metadata": {},
     "output_type": "execute_result"
    }
   ],
   "execution_count": 31
  },
  {
   "metadata": {
    "ExecuteTime": {
     "end_time": "2025-02-28T19:17:25.483885Z",
     "start_time": "2025-02-28T19:17:25.465663Z"
    }
   },
   "cell_type": "code",
   "source": [
    "x = np.array([[1, 3], [2, 11]])\n",
    "x"
   ],
   "id": "53192960351facde",
   "outputs": [
    {
     "data": {
      "text/plain": [
       "array([[ 1,  3],\n",
       "       [ 2, 11]])"
      ]
     },
     "execution_count": 37,
     "metadata": {},
     "output_type": "execute_result"
    }
   ],
   "execution_count": 37
  },
  {
   "metadata": {
    "ExecuteTime": {
     "end_time": "2025-02-28T19:18:03.083679Z",
     "start_time": "2025-02-28T19:18:03.065487Z"
    }
   },
   "cell_type": "code",
   "source": "x.sum(axis=1)",
   "id": "7cd2f5ba53d963d4",
   "outputs": [
    {
     "data": {
      "text/plain": [
       "array([ 4, 13])"
      ]
     },
     "execution_count": 40,
     "metadata": {},
     "output_type": "execute_result"
    }
   ],
   "execution_count": 40
  },
  {
   "metadata": {},
   "cell_type": "code",
   "outputs": [],
   "execution_count": null,
   "source": "",
   "id": "aefc607223dc21b9"
  },
  {
   "metadata": {},
   "cell_type": "markdown",
   "source": "1 = row - 0 = column",
   "id": "e3646714b310034f"
  },
  {
   "metadata": {
    "ExecuteTime": {
     "end_time": "2025-02-28T19:19:37.242829Z",
     "start_time": "2025-02-28T19:19:37.215544Z"
    }
   },
   "cell_type": "code",
   "source": [
    "a = np.array([[1,2],[3,4]])\n",
    "b = np.array([[1,1],[4,3]])\n",
    "a"
   ],
   "id": "48b431ef25353448",
   "outputs": [
    {
     "data": {
      "text/plain": [
       "array([[1, 2],\n",
       "       [3, 4]])"
      ]
     },
     "execution_count": 46,
     "metadata": {},
     "output_type": "execute_result"
    }
   ],
   "execution_count": 46
  },
  {
   "metadata": {
    "ExecuteTime": {
     "end_time": "2025-02-28T19:19:38.975864Z",
     "start_time": "2025-02-28T19:19:38.955597Z"
    }
   },
   "cell_type": "code",
   "source": "b",
   "id": "130c648e320a0aad",
   "outputs": [
    {
     "data": {
      "text/plain": [
       "array([[1, 1],\n",
       "       [4, 3]])"
      ]
     },
     "execution_count": 47,
     "metadata": {},
     "output_type": "execute_result"
    }
   ],
   "execution_count": 47
  },
  {
   "metadata": {
    "ExecuteTime": {
     "end_time": "2025-02-28T19:19:39.818080Z",
     "start_time": "2025-02-28T19:19:39.805468Z"
    }
   },
   "cell_type": "code",
   "source": "a == b",
   "id": "2601679ffe293b52",
   "outputs": [
    {
     "data": {
      "text/plain": [
       "array([[ True, False],\n",
       "       [False, False]])"
      ]
     },
     "execution_count": 48,
     "metadata": {},
     "output_type": "execute_result"
    }
   ],
   "execution_count": 48
  },
  {
   "metadata": {
    "ExecuteTime": {
     "end_time": "2025-02-28T19:20:15.457406Z",
     "start_time": "2025-02-28T19:20:15.435958Z"
    }
   },
   "cell_type": "code",
   "source": "np.array_equal(a, b)",
   "id": "e03ef0718dce472c",
   "outputs": [
    {
     "data": {
      "text/plain": [
       "False"
      ]
     },
     "execution_count": 49,
     "metadata": {},
     "output_type": "execute_result"
    }
   ],
   "execution_count": 49
  },
  {
   "metadata": {
    "ExecuteTime": {
     "end_time": "2025-02-28T19:20:33.070056Z",
     "start_time": "2025-02-28T19:20:33.055865Z"
    }
   },
   "cell_type": "code",
   "source": "arr_first = np.array([[1, 2, 3], [4, 5, 2]])",
   "id": "8acf3a534a527f3",
   "outputs": [],
   "execution_count": 50
  },
  {
   "metadata": {
    "ExecuteTime": {
     "end_time": "2025-02-28T19:20:41.763888Z",
     "start_time": "2025-02-28T19:20:41.755388Z"
    }
   },
   "cell_type": "code",
   "source": "arr_sec = np.array([[1, 2, 3], [4, 5, 2]])\n",
   "id": "e555b17d4da99386",
   "outputs": [],
   "execution_count": 51
  },
  {
   "metadata": {
    "ExecuteTime": {
     "end_time": "2025-02-28T19:21:52.915950Z",
     "start_time": "2025-02-28T19:21:52.897742Z"
    }
   },
   "cell_type": "code",
   "source": "np.array_equal(arr_first, arr_sec)",
   "id": "2080af78e2efbcf4",
   "outputs": [
    {
     "data": {
      "text/plain": [
       "True"
      ]
     },
     "execution_count": 52,
     "metadata": {},
     "output_type": "execute_result"
    }
   ],
   "execution_count": 52
  },
  {
   "metadata": {},
   "cell_type": "code",
   "outputs": [],
   "execution_count": null,
   "source": "",
   "id": "a58d0468e342e916"
  }
 ],
 "metadata": {
  "kernelspec": {
   "display_name": "Python 3",
   "language": "python",
   "name": "python3"
  },
  "language_info": {
   "codemirror_mode": {
    "name": "ipython",
    "version": 2
   },
   "file_extension": ".py",
   "mimetype": "text/x-python",
   "name": "python",
   "nbconvert_exporter": "python",
   "pygments_lexer": "ipython2",
   "version": "2.7.6"
  }
 },
 "nbformat": 4,
 "nbformat_minor": 5
}
