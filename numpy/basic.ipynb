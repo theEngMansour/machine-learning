{
 "cells": [
  {
   "metadata": {},
   "cell_type": "markdown",
   "source": "",
   "id": "8f92c54cc2dfcbe2"
  },
  {
   "metadata": {
    "ExecuteTime": {
     "end_time": "2025-02-28T18:42:16.067707Z",
     "start_time": "2025-02-28T18:42:16.060190Z"
    }
   },
   "cell_type": "code",
   "source": "import numpy as np",
   "id": "16fe13f5a32992b7",
   "outputs": [],
   "execution_count": 3
  },
  {
   "metadata": {
    "ExecuteTime": {
     "end_time": "2025-02-28T18:42:57.407592Z",
     "start_time": "2025-02-28T18:42:57.395852Z"
    }
   },
   "cell_type": "code",
   "source": "arr = np.array([1,2,5])",
   "id": "478d773c1636c3c3",
   "outputs": [],
   "execution_count": 4
  },
  {
   "metadata": {
    "ExecuteTime": {
     "end_time": "2025-02-28T18:43:07.970399Z",
     "start_time": "2025-02-28T18:43:07.959392Z"
    }
   },
   "cell_type": "code",
   "source": "print(type(arr))",
   "id": "e6103b1930138aa1",
   "outputs": [
    {
     "name": "stdout",
     "output_type": "stream",
     "text": [
      "<class 'numpy.ndarray'>\n"
     ]
    }
   ],
   "execution_count": 5
  },
  {
   "metadata": {
    "ExecuteTime": {
     "end_time": "2025-02-28T18:43:27.458837Z",
     "start_time": "2025-02-28T18:43:27.452750Z"
    }
   },
   "cell_type": "code",
   "source": "a = np.array(1)",
   "id": "2f41feb251aa4379",
   "outputs": [],
   "execution_count": 6
  },
  {
   "metadata": {
    "ExecuteTime": {
     "end_time": "2025-02-28T18:43:46.229969Z",
     "start_time": "2025-02-28T18:43:46.203530Z"
    }
   },
   "cell_type": "code",
   "source": "b = np.array([1,23,4, 55,4])",
   "id": "ee2e8015baed3141",
   "outputs": [],
   "execution_count": 7
  },
  {
   "metadata": {
    "ExecuteTime": {
     "end_time": "2025-02-28T18:44:28.376190Z",
     "start_time": "2025-02-28T18:44:28.363284Z"
    }
   },
   "cell_type": "code",
   "source": "c = np.array([[1,2],[12,2]])",
   "id": "61ca51fe9c30bf89",
   "outputs": [],
   "execution_count": 9
  },
  {
   "metadata": {
    "ExecuteTime": {
     "end_time": "2025-02-28T18:45:10.603197Z",
     "start_time": "2025-02-28T18:45:10.588526Z"
    }
   },
   "cell_type": "code",
   "source": "d = np.array([[[12,2], [12,1]]])",
   "id": "7b6a2b6e28527288",
   "outputs": [],
   "execution_count": 10
  },
  {
   "metadata": {
    "ExecuteTime": {
     "end_time": "2025-02-28T18:45:22.671243Z",
     "start_time": "2025-02-28T18:45:22.663176Z"
    }
   },
   "cell_type": "code",
   "source": "print(a.ndim)",
   "id": "6c1544332d898483",
   "outputs": [
    {
     "name": "stdout",
     "output_type": "stream",
     "text": [
      "0\n"
     ]
    }
   ],
   "execution_count": 11
  },
  {
   "metadata": {
    "ExecuteTime": {
     "end_time": "2025-02-28T18:45:47.268511Z",
     "start_time": "2025-02-28T18:45:47.258399Z"
    }
   },
   "cell_type": "code",
   "source": "print(d.ndim)",
   "id": "33e4980e0fd789a0",
   "outputs": [
    {
     "name": "stdout",
     "output_type": "stream",
     "text": [
      "3\n"
     ]
    }
   ],
   "execution_count": 13
  },
  {
   "metadata": {
    "ExecuteTime": {
     "end_time": "2025-02-28T18:46:28.482184Z",
     "start_time": "2025-02-28T18:46:28.473310Z"
    }
   },
   "cell_type": "code",
   "source": "arr = np.array([[1,2,3,4,5], [6,7,8,9,10]])\n",
   "id": "9d1bd2a6e4c3de2f",
   "outputs": [],
   "execution_count": 14
  },
  {
   "metadata": {
    "ExecuteTime": {
     "end_time": "2025-02-28T18:47:06.606931Z",
     "start_time": "2025-02-28T18:47:06.583343Z"
    }
   },
   "cell_type": "code",
   "source": "arr[0,4] + arr[1,4]",
   "id": "f40530f67e29373e",
   "outputs": [
    {
     "data": {
      "text/plain": [
       "15"
      ]
     },
     "execution_count": 16,
     "metadata": {},
     "output_type": "execute_result"
    }
   ],
   "execution_count": 16
  },
  {
   "metadata": {
    "ExecuteTime": {
     "end_time": "2025-02-28T18:47:23.793600Z",
     "start_time": "2025-02-28T18:47:23.778399Z"
    }
   },
   "cell_type": "code",
   "source": "arr = np.array([[[1, 2, 3], [4, 5, 6]], [[7, 8, 9], [10, 11, 12]]])",
   "id": "e713c5a2afbcd2a3",
   "outputs": [],
   "execution_count": 17
  },
  {
   "metadata": {
    "ExecuteTime": {
     "end_time": "2025-02-28T18:47:46.134024Z",
     "start_time": "2025-02-28T18:47:46.118481Z"
    }
   },
   "cell_type": "code",
   "source": "arr[1,0,1]",
   "id": "92cc29a3a0d6a498",
   "outputs": [
    {
     "data": {
      "text/plain": [
       "8"
      ]
     },
     "execution_count": 18,
     "metadata": {},
     "output_type": "execute_result"
    }
   ],
   "execution_count": 18
  },
  {
   "metadata": {
    "ExecuteTime": {
     "end_time": "2025-02-28T18:48:02.445392Z",
     "start_time": "2025-02-28T18:48:02.432031Z"
    }
   },
   "cell_type": "code",
   "source": "arr = np.array([1, 2, 3, 4, 5, 6, 7])",
   "id": "67143419bc21a6b5",
   "outputs": [],
   "execution_count": 19
  },
  {
   "metadata": {
    "ExecuteTime": {
     "end_time": "2025-02-28T18:48:21.899868Z",
     "start_time": "2025-02-28T18:48:21.883688Z"
    }
   },
   "cell_type": "code",
   "source": "arr[3:]",
   "id": "82e449f3dd720fda",
   "outputs": [
    {
     "data": {
      "text/plain": [
       "array([4, 5, 6, 7])"
      ]
     },
     "execution_count": 21,
     "metadata": {},
     "output_type": "execute_result"
    }
   ],
   "execution_count": 21
  },
  {
   "metadata": {
    "ExecuteTime": {
     "end_time": "2025-02-28T18:48:47.443966Z",
     "start_time": "2025-02-28T18:48:47.428351Z"
    }
   },
   "cell_type": "code",
   "source": "arr[1:5:2]",
   "id": "af8a5d32032e54c1",
   "outputs": [
    {
     "data": {
      "text/plain": [
       "array([2, 4])"
      ]
     },
     "execution_count": 22,
     "metadata": {},
     "output_type": "execute_result"
    }
   ],
   "execution_count": 22
  },
  {
   "metadata": {
    "ExecuteTime": {
     "end_time": "2025-02-28T18:49:44.488625Z",
     "start_time": "2025-02-28T18:49:44.473437Z"
    }
   },
   "cell_type": "code",
   "source": "arr = np.array([[[1, 2, 3], [4, 5, 6]], [[7, 8, 9], [10, 11, 12]]])\n",
   "id": "fd3e70bd1d9a9932",
   "outputs": [],
   "execution_count": 23
  },
  {
   "metadata": {
    "ExecuteTime": {
     "end_time": "2025-02-28T19:51:25.267214Z",
     "start_time": "2025-02-28T19:51:25.227316Z"
    }
   },
   "cell_type": "code",
   "source": "arr[0, 1, 1:]",
   "id": "b8571260c8989c8b",
   "outputs": [
    {
     "data": {
      "text/plain": [
       "array([5, 6])"
      ]
     },
     "execution_count": 37,
     "metadata": {},
     "output_type": "execute_result"
    }
   ],
   "execution_count": 37
  },
  {
   "metadata": {
    "ExecuteTime": {
     "end_time": "2025-02-28T18:50:55.224228Z",
     "start_time": "2025-02-28T18:50:55.213594Z"
    }
   },
   "cell_type": "code",
   "source": "arr = np.array([1, 2, 3])\n",
   "id": "66beed5fc70d467a",
   "outputs": [],
   "execution_count": 25
  },
  {
   "metadata": {
    "ExecuteTime": {
     "end_time": "2025-02-28T18:51:09.975291Z",
     "start_time": "2025-02-28T18:51:09.957274Z"
    }
   },
   "cell_type": "code",
   "source": [
    "for x in arr:\n",
    "    print(x)"
   ],
   "id": "2433d45909b0d01e",
   "outputs": [
    {
     "name": "stdout",
     "output_type": "stream",
     "text": [
      "1\n",
      "2\n",
      "3\n"
     ]
    }
   ],
   "execution_count": 27
  },
  {
   "metadata": {
    "ExecuteTime": {
     "end_time": "2025-02-28T18:51:16.008625Z",
     "start_time": "2025-02-28T18:51:15.993823Z"
    }
   },
   "cell_type": "code",
   "source": "arr = np.array([[[1, 2, 3], [4, 5, 6]], [[7, 8, 9], [10, 11, 12]]])\n",
   "id": "6578071c9bc8490e",
   "outputs": [],
   "execution_count": 28
  },
  {
   "metadata": {
    "ExecuteTime": {
     "end_time": "2025-02-28T18:52:33.186814Z",
     "start_time": "2025-02-28T18:52:33.178454Z"
    }
   },
   "cell_type": "code",
   "source": [
    "for x in arr:\n",
    "    for y in x:\n",
    "        for z in y:\n",
    "            print(z)"
   ],
   "id": "fb9aef76573505f5",
   "outputs": [
    {
     "name": "stdout",
     "output_type": "stream",
     "text": [
      "1\n",
      "2\n",
      "3\n",
      "4\n",
      "5\n",
      "6\n",
      "7\n",
      "8\n",
      "9\n",
      "10\n",
      "11\n",
      "12\n"
     ]
    }
   ],
   "execution_count": 35
  },
  {
   "metadata": {
    "ExecuteTime": {
     "end_time": "2025-02-28T18:53:35.230946Z",
     "start_time": "2025-02-28T18:53:35.213624Z"
    }
   },
   "cell_type": "code",
   "source": [
    "for x in np.nditer(arr):\n",
    "    print(x)"
   ],
   "id": "c17d8852d2a9ba81",
   "outputs": [
    {
     "name": "stdout",
     "output_type": "stream",
     "text": [
      "1\n",
      "2\n",
      "3\n",
      "4\n",
      "5\n",
      "6\n",
      "7\n",
      "8\n",
      "9\n",
      "10\n",
      "11\n",
      "12\n"
     ]
    }
   ],
   "execution_count": 36
  }
 ],
 "metadata": {
  "kernelspec": {
   "display_name": "Python 3",
   "language": "python",
   "name": "python3"
  },
  "language_info": {
   "codemirror_mode": {
    "name": "ipython",
    "version": 2
   },
   "file_extension": ".py",
   "mimetype": "text/x-python",
   "name": "python",
   "nbconvert_exporter": "python",
   "pygments_lexer": "ipython2",
   "version": "2.7.6"
  }
 },
 "nbformat": 4,
 "nbformat_minor": 5
}
